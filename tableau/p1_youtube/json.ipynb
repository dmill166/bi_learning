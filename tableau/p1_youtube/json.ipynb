{
 "cells": [
  {
   "cell_type": "code",
   "execution_count": 21,
   "metadata": {},
   "outputs": [],
   "source": [
    "import os\n",
    "import pandas\n",
    "import json"
   ]
  },
  {
   "cell_type": "code",
   "execution_count": 33,
   "metadata": {},
   "outputs": [],
   "source": [
    "QUOTECHAR = '\"'\n",
    "ENCODING = 'latin-1'\n",
    "DEBUG = True\n",
    "SERVER_STR = 'p1youtube_server'\n",
    "DATABASE_STR = 'p1youtube_database'\n",
    "USER_STR = 'p1youtube_user'\n",
    "PASS_STR = 'p1youtube_pass'\n",
    "BATCH_INSERT_SIZE = 50000\n",
    "# DATA_SUBFOLDER = '\\\\tableau\\\\p1_youtube\\\\data'\n",
    "DATA_SUBFOLDER = 'C:\\\\Users\\\\Dakot\\\\OneDrive\\\\Documents\\\\GitHub_Repositories\\\\bi_learning.\\\\tableau\\\\p1_youtube\\\\data\\\\'"
   ]
  },
  {
   "cell_type": "code",
   "execution_count": 27,
   "metadata": {},
   "outputs": [
    {
     "name": "stdout",
     "output_type": "stream",
     "text": [
      "C:\\Users\\Dakot\\OneDrive\\Documents\\GitHub_Repositories\\bi_learning\n"
     ]
    }
   ],
   "source": [
    "cwd = 'C:\\\\Users\\\\Dakot\\\\OneDrive\\\\Documents\\\\GitHub_Repositories\\\\bi_learning'\n",
    "print(cwd)\n",
    "\n"
   ]
  },
  {
   "cell_type": "code",
   "execution_count": 34,
   "metadata": {},
   "outputs": [
    {
     "name": "stdout",
     "output_type": "stream",
     "text": [
      "C:\\Users\\Dakot\\OneDrive\\Documents\\GitHub_Repositories\\bi_learning\\tableau\\p1_youtube\\data\n"
     ]
    }
   ],
   "source": [
    "# Drill down into data directory\n",
    "os.chdir(DATA_SUBFOLDER)\n",
    "print(os.getcwd())"
   ]
  },
  {
   "cell_type": "code",
   "execution_count": 43,
   "metadata": {},
   "outputs": [
    {
     "name": "stdout",
     "output_type": "stream",
     "text": [
      "C:\\Users\\Dakot\\OneDrive\\Documents\\GitHub_Repositories\\bi_learning.\\tableau\\p1_youtube\\data\\CA_category_id.json\n",
      "C:\\Users\\Dakot\\OneDrive\\Documents\\GitHub_Repositories\\bi_learning.\\tableau\\p1_youtube\\data\\DE_category_id.json\n",
      "C:\\Users\\Dakot\\OneDrive\\Documents\\GitHub_Repositories\\bi_learning.\\tableau\\p1_youtube\\data\\FR_category_id.json\n",
      "C:\\Users\\Dakot\\OneDrive\\Documents\\GitHub_Repositories\\bi_learning.\\tableau\\p1_youtube\\data\\GB_category_id.json\n",
      "C:\\Users\\Dakot\\OneDrive\\Documents\\GitHub_Repositories\\bi_learning.\\tableau\\p1_youtube\\data\\IN_category_id.json\n",
      "C:\\Users\\Dakot\\OneDrive\\Documents\\GitHub_Repositories\\bi_learning.\\tableau\\p1_youtube\\data\\JP_category_id.json\n",
      "C:\\Users\\Dakot\\OneDrive\\Documents\\GitHub_Repositories\\bi_learning.\\tableau\\p1_youtube\\data\\KR_category_id.json\n",
      "C:\\Users\\Dakot\\OneDrive\\Documents\\GitHub_Repositories\\bi_learning.\\tableau\\p1_youtube\\data\\MX_category_id.json\n",
      "C:\\Users\\Dakot\\OneDrive\\Documents\\GitHub_Repositories\\bi_learning.\\tableau\\p1_youtube\\data\\RU_category_id.json\n",
      "C:\\Users\\Dakot\\OneDrive\\Documents\\GitHub_Repositories\\bi_learning.\\tableau\\p1_youtube\\data\\US_category_id.json\n"
     ]
    }
   ],
   "source": [
    "# Collect list of file names with pattern matching\n",
    "json_paths = []\n",
    "for x in os.listdir():\n",
    "    if x.endswith(\".json\"):\n",
    "    # Appends only csv file present in folder\n",
    "        json_paths.append(DATA_SUBFOLDER + x)\n",
    "for path in json_paths:\n",
    "    print(path)"
   ]
  },
  {
   "cell_type": "code",
   "execution_count": 44,
   "metadata": {},
   "outputs": [
    {
     "data": {
      "text/html": [
       "<div>\n",
       "<style scoped>\n",
       "    .dataframe tbody tr th:only-of-type {\n",
       "        vertical-align: middle;\n",
       "    }\n",
       "\n",
       "    .dataframe tbody tr th {\n",
       "        vertical-align: top;\n",
       "    }\n",
       "\n",
       "    .dataframe thead th {\n",
       "        text-align: right;\n",
       "    }\n",
       "</style>\n",
       "<table border=\"1\" class=\"dataframe\">\n",
       "  <thead>\n",
       "    <tr style=\"text-align: right;\">\n",
       "      <th></th>\n",
       "    </tr>\n",
       "  </thead>\n",
       "  <tbody>\n",
       "  </tbody>\n",
       "</table>\n",
       "</div>"
      ],
      "text/plain": [
       "Empty DataFrame\n",
       "Columns: []\n",
       "Index: []"
      ]
     },
     "execution_count": 44,
     "metadata": {},
     "output_type": "execute_result"
    }
   ],
   "source": [
    "# Iterate through file paths and append results to main dataframes (adding file_name as a column)\n",
    "json_df = pandas.DataFrame()\n",
    "json_df"
   ]
  },
  {
   "cell_type": "code",
   "execution_count": 45,
   "metadata": {},
   "outputs": [
    {
     "name": "stdout",
     "output_type": "stream",
     "text": [
      "CA_category_id.json\n",
      "DE_category_id.json\n",
      "FR_category_id.json\n",
      "GB_category_id.json\n",
      "IN_category_id.json\n",
      "JP_category_id.json\n",
      "KR_category_id.json\n",
      "MX_category_id.json\n",
      "RU_category_id.json\n",
      "US_category_id.json\n"
     ]
    }
   ],
   "source": [
    "for file_path in json_paths:\n",
    "    the_file_name = file_path.split(\"data\\\\\",1)[1]\n",
    "    print(the_file_name)"
   ]
  },
  {
   "cell_type": "code",
   "execution_count": 49,
   "metadata": {},
   "outputs": [],
   "source": [
    "    if json_df.empty:\n",
    "        json = pandas.read_json(file_path)\n",
    "        # d = [pandas.DataFrame(json[col].tolist()).add_prefix(col) for col in json.columns]\n",
    "        # json_df = pandas.concat(d, axis=1)\n",
    "        # json_df['file_name'] = pandas.Series([the_file_name for x in range(len(json_df.index))])"
   ]
  },
  {
   "cell_type": "code",
   "execution_count": null,
   "metadata": {},
   "outputs": [],
   "source": [
    "    else:\n",
    "        json = pandas.read_json(file_path)\n",
    "        d = [pandas.DataFrame(json[col].tolist()).add_prefix(col) for col in json.columns]\n",
    "        temp_df = pandas.concat(d, axis=1)\n",
    "        temp_df['file_name'] = pandas.Series([the_file_name for x in range(len(temp_df.index))])\n",
    "        json_df = pandas.concat([json_df, temp_df])"
   ]
  },
  {
   "cell_type": "code",
   "execution_count": null,
   "metadata": {},
   "outputs": [],
   "source": [
    "json_df.name = 'json_df'"
   ]
  }
 ],
 "metadata": {
  "kernelspec": {
   "display_name": "Python 3",
   "language": "python",
   "name": "python3"
  },
  "language_info": {
   "codemirror_mode": {
    "name": "ipython",
    "version": 3
   },
   "file_extension": ".py",
   "mimetype": "text/x-python",
   "name": "python",
   "nbconvert_exporter": "python",
   "pygments_lexer": "ipython3",
   "version": "3.9.13"
  },
  "orig_nbformat": 4
 },
 "nbformat": 4,
 "nbformat_minor": 2
}
